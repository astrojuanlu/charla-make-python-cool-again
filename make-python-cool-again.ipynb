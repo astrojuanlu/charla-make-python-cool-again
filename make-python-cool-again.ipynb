{
 "cells": [
  {
   "cell_type": "markdown",
   "id": "99c90e08-44de-4290-b674-3201dc0e3427",
   "metadata": {
    "editable": true,
    "slideshow": {
     "slide_type": "slide"
    },
    "tags": []
   },
   "source": [
    "<header style=\"background-image: url('img/background-2462434_1920.jpg'); background-size: cover; padding: 50px 0;font-size: 1.5em;background-repeat: no-repeat;\">\n",
    "  <div style=\"padding: 10px 25px; background-color: #fff9 !important;\">\n",
    "  <h1 style=\"color: black; text-shadow: #fff 3px 3px 0px; margin-bottom: 2em\">Make Python <del>Great</del> Cool Again</h1>\n",
    "  <h2 style=\"text-align: right;font-size: 1em;\">Juan Luis Cano Rodríguez &lt;hello@juanlu.space&gt;<br>2024-11-07 @ Python Bilbao</h2>\n",
    "  </div>\n",
    "</header>"
   ]
  },
  {
   "cell_type": "markdown",
   "id": "20d5fa53-7bfa-4b66-8472-44e53b1c2b55",
   "metadata": {
    "editable": true,
    "slideshow": {
     "slide_type": "slide"
    },
    "tags": []
   },
   "source": [
    "*Érase una vez un lenguaje admirado y deseado...*\n",
    "\n",
    "![Encuesta Stack Overflow](img/stack-overflow-survey-most-desired.png)"
   ]
  },
  {
   "cell_type": "markdown",
   "id": "5ccf2f34-f045-469f-8ca4-cd9c56430b20",
   "metadata": {
    "editable": true,
    "slideshow": {
     "slide_type": "subslide"
    },
    "tags": []
   },
   "source": [
    "*...a la vez que enormemente popular...*\n",
    "\n",
    "![Octoverse 2024](img/GitHub-Octoverse-2024-top-programming-languages.webp)"
   ]
  },
  {
   "cell_type": "markdown",
   "id": "c60872cb-4b09-49ef-8af9-707b5a1358c7",
   "metadata": {
    "editable": true,
    "slideshow": {
     "slide_type": "subslide"
    },
    "tags": []
   },
   "source": [
    "*...pero extremadamente lento e ineficiente!*\n",
    "\n",
    "![Energía, tiempo y memoria de diferentes lenguajes](img/energy-time-memory-programming-languages.png)"
   ]
  },
  {
   "cell_type": "markdown",
   "id": "2c8a5fc9-9cb6-4b33-b761-09817f46dc2c",
   "metadata": {
    "editable": true,
    "slideshow": {
     "slide_type": "slide"
    },
    "tags": []
   },
   "source": [
    "# Índice\n",
    "\n",
    "1. Python podría molar un poco más\n",
    "2. Breve historia de la Rustificación de Python\n",
    "3. Herramientas que no te puedes perder\n",
    "4. Demo"
   ]
  },
  {
   "cell_type": "markdown",
   "id": "ba5efb66-1863-40ab-a01c-769d9ca231ea",
   "metadata": {
    "editable": true,
    "slideshow": {
     "slide_type": "slide"
    },
    "tags": []
   },
   "source": [
    "# ¿Este quién es?\n",
    "\n",
    "- Aerospace Engineer passionate about **tech communities** and the **sustainability** ♻️\n",
    "- **Product Manager** at QuantumBlack, AI by McKinsey, for Kedro, an open source pipeline framework 🥑\n",
    "- Organizer of the **PyData Madrid** monthly meetup (ex Python España, ex PyCon Spain) 🐍\n",
    "- Contributor to the SciPy and PyData ecosystem\n",
    "- Hard Rock lover 🎸\n",
    "\n",
    "Follow me! 🔗 https://linkat.blue/juanlu.space, 🦋 @juanlu.space\n",
    "\n",
    "![Me!](img/minijuanlu.png)"
   ]
  },
  {
   "cell_type": "markdown",
   "id": "d5672264-d4d5-46b1-be52-656dee4de1b9",
   "metadata": {
    "editable": true,
    "slideshow": {
     "slide_type": "slide"
    },
    "tags": []
   },
   "source": [
    "# Breve historia de la \"Rustificación\" de Python\n",
    "\n",
    "- Mayo 2020: primer commit de **polars**\n",
    "- Febrero 2021: primera versión de **pyca/cryptography** con Rust\n",
    "- Mayo 2022: primera charla de polars impartida por la comunidad [_yours truly_](https://pretalx.com/pycon-lt-2022/talk/9CMPF3/)\n",
    "- Agosto 2022: primer commit de **ruff**\n",
    "- Enero 2023: ruff [celebra las primeras 200 _releases_](https://notes.crmarsh.com/ruff-the-first-200-releases), explota en Hacker Newsrust made the rounds on Hacker News\n",
    "- Junio 2023: **pydantic** 2.0 introduce Rust\n",
    "- Julio 2023: **FastAPI** 0.100.0 añade soporte para pydantic v2\n",
    "- Febrero 2024: se anuncia **uv**\n",
    "- July 2024: **polars 1.0**\n",
    "- Agosto 2024: uv introduce gestión de proyectos "
   ]
  },
  {
   "cell_type": "markdown",
   "id": "1eb0f9e2-71f5-49eb-8ff9-608564aa9c02",
   "metadata": {
    "editable": true,
    "slideshow": {
     "slide_type": "slide"
    },
    "tags": []
   },
   "source": [
    "# ¡Dentro demo!"
   ]
  },
  {
   "cell_type": "markdown",
   "id": "e28683ef-c64e-4eb8-b4a2-748c40d822bc",
   "metadata": {
    "editable": true,
    "slideshow": {
     "slide_type": "skip"
    },
    "tags": []
   },
   "source": [
    "# Herramientas que no te puedes perder"
   ]
  },
  {
   "cell_type": "markdown",
   "id": "3306e93f-2ca0-4006-9646-30de4295c5d7",
   "metadata": {
    "editable": true,
    "slideshow": {
     "slide_type": "skip"
    },
    "tags": []
   },
   "source": [
    "## uv\n",
    "\n",
    "![uv](img/uv-logo.svg)"
   ]
  },
  {
   "cell_type": "markdown",
   "id": "df294093-1fb9-4281-b575-6a46fa74a6a6",
   "metadata": {
    "editable": true,
    "slideshow": {
     "slide_type": "skip"
    },
    "tags": []
   },
   "source": [
    "## ruff\n",
    "\n",
    "![ruff](img/ruff-logo.svg)"
   ]
  },
  {
   "cell_type": "markdown",
   "id": "74fba6a3-8d2d-4d2f-9685-f3971f9be1d5",
   "metadata": {
    "editable": true,
    "slideshow": {
     "slide_type": "skip"
    },
    "tags": []
   },
   "source": [
    "## pydantic\n",
    "\n",
    "![pydantic](img/logo-pydantic.png)"
   ]
  },
  {
   "cell_type": "markdown",
   "id": "3642d5be-2403-4567-a82a-c643335b3033",
   "metadata": {
    "editable": true,
    "slideshow": {
     "slide_type": "skip"
    },
    "tags": []
   },
   "source": [
    "## Polars\n",
    "\n",
    "![polars](img/logo-polars.png)"
   ]
  },
  {
   "cell_type": "markdown",
   "id": "621e019a-1b7e-40aa-9662-a3935eba63f6",
   "metadata": {
    "editable": true,
    "slideshow": {
     "slide_type": "slide"
    },
    "tags": []
   },
   "source": [
    "<header style=\"background-image: url('img/background-2462434_1920.jpg'); background-size: cover; padding: 50px 0;font-size: 1.5em;background-repeat: no-repeat;\">\n",
    "  <div style=\"padding: 10px 25px; background-color: #fff9 !important;\">\n",
    "  <h1 style=\"color: black; text-shadow: #fff 3px 3px 0px; margin-bottom: 2em\">Make Python <del>Great</del> Cool Again</h1>\n",
    "  <h2 style=\"text-align: right;font-size: 1em;\">Juan Luis Cano Rodríguez &lt;hello@juanlu.space&gt;<br>2024-11-07 @ Python Bilbao<br>🦋 @juanlu.space</h2>\n",
    "  </div>\n",
    "</header>"
   ]
  }
 ],
 "metadata": {
  "kernelspec": {
   "display_name": "Python 3 (ipykernel)",
   "language": "python",
   "name": "python3"
  },
  "language_info": {
   "codemirror_mode": {
    "name": "ipython",
    "version": 3
   },
   "file_extension": ".py",
   "mimetype": "text/x-python",
   "name": "python",
   "nbconvert_exporter": "python",
   "pygments_lexer": "ipython3",
   "version": "3.12.6"
  }
 },
 "nbformat": 4,
 "nbformat_minor": 5
}
